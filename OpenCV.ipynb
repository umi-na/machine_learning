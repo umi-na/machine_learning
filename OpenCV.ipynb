{
  "nbformat": 4,
  "nbformat_minor": 0,
  "metadata": {
    "colab": {
      "provenance": [],
      "authorship_tag": "ABX9TyOUu+hP/c1hU6CaAnAAXA/W",
      "include_colab_link": true
    },
    "kernelspec": {
      "name": "python3",
      "display_name": "Python 3"
    },
    "language_info": {
      "name": "python"
    },
    "accelerator": "GPU"
  },
  "cells": [
    {
      "cell_type": "markdown",
      "metadata": {
        "id": "view-in-github",
        "colab_type": "text"
      },
      "source": [
        "<a href=\"https://colab.research.google.com/github/umi-na/machine_learning/blob/main/OpenCV.ipynb\" target=\"_parent\"><img src=\"https://colab.research.google.com/assets/colab-badge.svg\" alt=\"Open In Colab\"/></a>"
      ]
    },
    {
      "cell_type": "code",
      "metadata": {
        "colab": {
          "base_uri": "https://localhost:8080/"
        },
        "id": "27JKzsJZ6Ez9",
        "outputId": "5acead4f-be0c-4993-fb05-aa695f10fa6d"
      },
      "source": [
        "import cv2\n",
        "print('Hello OpenCV', cv2.__version__)"
      ],
      "execution_count": null,
      "outputs": [
        {
          "output_type": "stream",
          "text": [
            "Hello OpenCV 4.1.2\n"
          ],
          "name": "stdout"
        }
      ]
    },
    {
      "cell_type": "markdown",
      "metadata": {
        "id": "no0dsTnow28n"
      },
      "source": [
        "## 프로그래밍 VS 머신러닝\n",
        "</br>프로그래밍\n",
        "</br>입력(학습데이터 + 분류 프로그램) -> 출력(정답)\n",
        "\n",
        "머신러닝\n",
        "</br>입력(학습데이터 + 정답) -> 출력(판별 프로그램/rule)"
      ]
    },
    {
      "cell_type": "markdown",
      "metadata": {
        "id": "a19mIAzQPHzC"
      },
      "source": [
        "## 지도학습 VS 비지도학습\n",
        "\n",
        "### 지도학습: 레이블이 있는 데이터로 학습, 미래 데이터 예측\n",
        "분류: 구분, 숫자 인식\n",
        "</br>회귀: 정보를 가지고 예측\n",
        "\n",
        "### 비지도 학습: 레이블이 없는 데이터로 학습, 데이터의 구조/특징 발견\n",
        "군집화: 색상 양자화(color quantization)에 의한 영상 분할\n",
        "</br>분해: 데이터 전처리\n"
      ]
    },
    {
      "cell_type": "markdown",
      "metadata": {
        "id": "wqYceP6YZkom"
      },
      "source": [
        "## OpenCV 머신러닝 API\n",
        "### 머신러닝 알고리즘 객체 생성\n",
        "cv2.ml.ANN_MLP_create() -> retval\n",
        "</br>cv2: 버전\n",
        "</br>ml: machine learning\n",
        "</br>cv2.KNearest_create() -> retval\n",
        "</br>cv2.SVM_create() -> retval\n",
        "</br>retval: 각 머신러닝 알고리즘 객체\n",
        "</br></br>\n",
        "### 머신러닝 알고리즘 학습\n",
        "cv2.ml_StatModel.train(samples, layout, responses) -> retval\n",
        "</br>sample: 학습 데이터 행렬(N, d) N: 행, d: 열(차원수)\n",
        "</br>layout: 학습 데이터 배치 방법\n",
        "</br>responses: 각 학습 데이터에 대응되는 응답(레이블) 행렬\n",
        "</br>retval: 학습이 성공하면 true\n",
        "</br></br>\n",
        "### 머신러닝 알고리즘 예측\n",
        "cv2.ml.ml_StatModel.predict(samples, results=None, flags=None) -> retval, result\n",
        "</br>samples: 입력 벡터가 행 단위로 저장된 행렬 N: 행, d: 열\n",
        "</br>results: 각 입력 샘플에 대한 예측(분류 또는 회귀) 결과 저장한 행렬\n",
        "</br>flags: 추가적인 플래그, 기본값은 0\n",
        "</br>retval: 알고리즘에 따라 다름\n"
      ]
    },
    {
      "cell_type": "markdown",
      "metadata": {
        "id": "63oXTbAPjpWs"
      },
      "source": [
        "## KNN\n",
        "K-Nearest Neighbor 알고리즘(k 최근접 이웃 알고리즘)\n",
        "</br>특징 공간에서 테스트 데이터와 가장 가까이 있는\n",
        "</br>k개의 학습 데이터를 찾아 분류 또는 회귀를 수행하는 지도 학습 알고리즘\n",
        "\n",
        "k가 작을 수록 다른 클래스에 뜬금없이 다른 클래스가 섞이기도 하는 반면\n",
        "</br>k가 커지면 원래는 다른 클래스여도 같은 클래스로 취급되는 등의 일반화된\n",
        "</br>형태의 결과가 나타난다\n",
        "</br></br>\n",
        "\n",
        "### KNN 알고리즘 객체 생성\n",
        "cv2.ml.KNearest_create() -> retval\n",
        "</br>retval: cv2.ml_KNearest 객체\n",
        "</br></br>\n",
        "### KNN 알고리즘 입력 데이터 클래스 예측\n",
        "cv.ml_KNearest.findNrearest(samples, k, results=None, neighborResponses=None, dist=None, flags=None)\n",
        "</br>->ratval, results, neighborResponses, dist\n",
        "</br>k: 사용할 최근접 이웃 개수\n",
        "</br>neighborResponses: 예측에 사용된 k개의 최근접 이웃 클래스 정보 행렬\n",
        "</br>dist: 입력 벡터와 예측에 사용된 k개의 최근접 이웃과의 거리를 저장한 행렬\n",
        "</br>retval: 입력 벡터가 하나인 경우에 대한 응답"
      ]
    },
    {
      "cell_type": "code",
      "metadata": {
        "id": "qfx6r42T6WCk"
      },
      "source": [
        "import numpy as np"
      ],
      "execution_count": null,
      "outputs": []
    },
    {
      "cell_type": "code",
      "metadata": {
        "id": "wq_9VfnzW2H1"
      },
      "source": [
        "# 2차원 평면에 무작위로 점을 찍어서 3개의 클래스로 구분하는 프로그램\n",
        "\n",
        "# trank bar에 대한 call back함수\n",
        "def on_k_changed(pos):\n",
        "  global k_value\n",
        "\n",
        "  k_value = pos\n",
        "  if k_value < 1:\n",
        "    k_value = 1\n",
        "\n",
        "  trainAndDisplay()\n",
        "\n",
        "# helper function\n",
        "def addPoint(x,y,c):\n",
        "  train.append([x,y]) # list로 x, y좌표를 인자로 받음\n",
        "  label.append([c]) # 클래스를 인자로 받음\n",
        "\n",
        "\n",
        "def trainAndDisplay():\n",
        "\n",
        "  '''\n",
        "  trainData = np.array(train, dtype=np.float32)\n",
        "  labelData = np.array(label, dtype=np.int32)\n",
        "\n",
        "  knn.train(trainData, cv2.ml.ROW_SAMPLE, labelData)\n",
        "\n",
        "  h, w = img.shape[:2]\n",
        "  for y in range(h):\n",
        "    for x in range(w):\n",
        "      sample = np.array([[x, y]]).astype(np.float32)\n",
        "\n",
        "      ret, _, _, _ = knn.findNearest(sample, k_value)\n",
        "\n",
        "      ret = int(ret)\n",
        "      if ret == 0:\n",
        "        img[y, x] = (128, 128, 225)\n",
        "      elif ret == 1:\n",
        "        img[y, x] = (128, 255, 128)\n",
        "      elif ret == 2:\n",
        "        img[y, x] = (255, 128, 128)\n",
        "  '''\n",
        "\n",
        "  for i in range(len(train)):\n",
        "    x, y = train[i]\n",
        "    l = label[i][0]\n",
        "\n",
        "    if l == 0:\n",
        "      cv2.circle(img, (x, y), 5, (0, 0, 128), -1, cv2.LINE_AA)\n",
        "    elif l == 1:\n",
        "      cv2.circle(img, (x, y), 5, (0, 128, 0), -1, cv2.LINE_AA)\n",
        "    elif l == 2:\n",
        "      cv2.circle(img, (x, y), 5, (128, 0, 0), -1, cv2.LINE_AA)\n",
        "\n",
        "  cv2.imshow('knn', img)\n",
        "\n",
        "# 학습데이터 & 레이블\n",
        "train = [] # 2차원 x, y좌표, 각 클래스 별로 30개, 총 90개\n",
        "label = [] # 각 점이 몇 번째 클래스인지에 대한 정수 값\n",
        "\n",
        "k_value = 1 # 기본값은 1로 만들었지만 track bar로 조정할 수 있게 해 놓음\n",
        "img = np.full((500, 500, 3), 255, np.uint8)\n",
        "knn = cv2.ml.KNearest_create() # k-nearest알고리즘 객체\n",
        "\n",
        "# 랜덤 데이터 생성\n",
        "NUM = 30\n",
        "rn = np.zeros((NUM, 2), np.int32)\n",
        "\n",
        "# 각 클래스별로 30개씩 만듬\n",
        "# (150, 150) 근방의 점은 0번 클래스로 설정\n",
        "cv2.randn(rn, 0, 50) # 가우시안 분포를 따르는 형태의 random number generation, 표준편차는 50\n",
        "for i in range(NUM):\n",
        "  addPoint(rn[i, 0] + 150, rn[i, 1] + 150, 0) # x, y 좌표와 클래스를 인자로 받음\n",
        "\n",
        "# (350, 150) 근방의 점은 1번 클래스로 설정\n",
        "cv2.randn(rn, 0, 50)\n",
        "for i in range(NUM):\n",
        "  addPoint(rn[i, 0] + 350, rn[i, 1] + 150, 1)\n",
        "\n",
        "# (250, 400) 근방의 점은 2번 클래스로 설정\n",
        "cv2.randn(rn, 0, 70) # 표준편자는 70\n",
        "for i in range(NUM):\n",
        "  addPoint(rn[i, 0] + 250, rn[i, 1] + 400, 2)\n",
        "\n",
        "# 영상 출력 창 생성 & 트랙바 생성\n",
        "cv2.namedWindow('knn')\n",
        "cv2.createTrackbar('k_value', 'knn', 1, 5, on_k_changed)\n",
        "\n",
        "# KNN 결과 출력\n",
        "trainAndDisplay()\n",
        "\n",
        "cv2.waitKey()\n",
        "cv2.destroyAllWindows()"
      ],
      "execution_count": null,
      "outputs": []
    },
    {
      "cell_type": "markdown",
      "metadata": {
        "id": "rFbAodK59KdX"
      },
      "source": [
        "colab은 local window가 없어서 cv2.imshow 안 됨\n",
        "VS Code로 가자"
      ]
    }
  ]
}