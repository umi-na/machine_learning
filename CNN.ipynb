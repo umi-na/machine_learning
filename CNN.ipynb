{
  "nbformat": 4,
  "nbformat_minor": 0,
  "metadata": {
    "interpreter": {
      "hash": "4bb6197cf3cc9a71b6e2a1685dfbb47137381d28f5ac3d7371063debada5003e"
    },
    "kernelspec": {
      "display_name": "Python 3.9.5 64-bit",
      "name": "python3"
    },
    "language_info": {
      "codemirror_mode": {
        "name": "ipython",
        "version": 3
      },
      "file_extension": ".py",
      "mimetype": "text/x-python",
      "name": "python",
      "nbconvert_exporter": "python",
      "pygments_lexer": "ipython3",
      "version": "3.9.5"
    },
    "orig_nbformat": 4,
    "colab": {
      "provenance": [],
      "include_colab_link": true
    },
    "accelerator": "GPU"
  },
  "cells": [
    {
      "cell_type": "markdown",
      "metadata": {
        "id": "view-in-github",
        "colab_type": "text"
      },
      "source": [
        "<a href=\"https://colab.research.google.com/github/umi-na/machine_learning/blob/main/CNN.ipynb\" target=\"_parent\"><img src=\"https://colab.research.google.com/assets/colab-badge.svg\" alt=\"Open In Colab\"/></a>"
      ]
    },
    {
      "cell_type": "markdown",
      "metadata": {
        "id": "SMJciM9jcE8e"
      },
      "source": [
        "## 딥러닝 VS 머신러닝\n",
        "### 머신러닝\n",
        "입력 데이터 피쳐벡터 수동 추출(Manual Feature Extraction)\n",
        "</br>-> 머신러닝(분류; Classification)\n",
        "</br>-> 결과 출력</br>\n",
        "\n",
        "### 딥러닝\n",
        "입력 데이터\n",
        "</br>-> 모델이 피처벡터 추출 + 분류(Feature Extraction + Classification)\n",
        "</br>-> 결과 출력\n",
        "</br>시간이 오래 걸리고 과적합에 빠질 수 있는 가능성이 있지만, 추출을 직접 해줄 필요가 없기 때문에 사용성이 좋다"
      ]
    },
    {
      "cell_type": "markdown",
      "metadata": {
        "id": "uHbddDX0cE8o"
      },
      "source": [
        "### CNN\n",
        "- 2차원 영상에서 유효한 특징(feature)를 찾아내는 역할\n",
        "- 유용한 필터 마스크가 학습에 의해 결정됨\n",
        "\n",
        "</br>\n",
        "LeNet-5\n",
        "</br>\n",
        "7개 레이어: Conv-Pool-Conv-Pool-FC-FC-FC"
      ]
    },
    {
      "cell_type": "code",
      "metadata": {
        "colab": {
          "base_uri": "https://localhost:8080/"
        },
        "id": "S7Sw_l6EcwxT",
        "outputId": "f1c29651-c1a0-4efe-9b99-6b2563405d84"
      },
      "source": [
        "pip install tensorflow==1.13.1\n",
        "# tensorflow는 기본적으로 2가 깔리기 때문에 1이라고 지정, 아래 코드는 \n",
        "# tensorflow-gpu버전도 있는데 CUDA 등을 사용하면 가능하다"
      ],
      "execution_count": null,
      "outputs": [
        {
          "output_type": "stream",
          "text": [
            "Collecting tensorflow==1.13.1\n",
            "\u001b[?25l  Downloading https://files.pythonhosted.org/packages/d4/29/6b4f1e02417c3a1ccc85380f093556ffd0b35dc354078074c5195c8447f2/tensorflow-1.13.1-cp37-cp37m-manylinux1_x86_64.whl (92.6MB)\n",
            "\u001b[K     |████████████████████████████████| 92.6MB 31kB/s \n",
            "\u001b[?25hCollecting tensorboard<1.14.0,>=1.13.0\n",
            "\u001b[?25l  Downloading https://files.pythonhosted.org/packages/0f/39/bdd75b08a6fba41f098b6cb091b9e8c7a80e1b4d679a581a0ccd17b10373/tensorboard-1.13.1-py3-none-any.whl (3.2MB)\n",
            "\u001b[K     |████████████████████████████████| 3.2MB 44.4MB/s \n",
            "\u001b[?25hRequirement already satisfied: numpy>=1.13.3 in /usr/local/lib/python3.7/dist-packages (from tensorflow==1.13.1) (1.19.5)\n",
            "Requirement already satisfied: termcolor>=1.1.0 in /usr/local/lib/python3.7/dist-packages (from tensorflow==1.13.1) (1.1.0)\n",
            "Requirement already satisfied: astor>=0.6.0 in /usr/local/lib/python3.7/dist-packages (from tensorflow==1.13.1) (0.8.1)\n",
            "Requirement already satisfied: six>=1.10.0 in /usr/local/lib/python3.7/dist-packages (from tensorflow==1.13.1) (1.15.0)\n",
            "Requirement already satisfied: gast>=0.2.0 in /usr/local/lib/python3.7/dist-packages (from tensorflow==1.13.1) (0.4.0)\n",
            "Collecting tensorflow-estimator<1.14.0rc0,>=1.13.0\n",
            "\u001b[?25l  Downloading https://files.pythonhosted.org/packages/bb/48/13f49fc3fa0fdf916aa1419013bb8f2ad09674c275b4046d5ee669a46873/tensorflow_estimator-1.13.0-py2.py3-none-any.whl (367kB)\n",
            "\u001b[K     |████████████████████████████████| 368kB 49.6MB/s \n",
            "\u001b[?25hCollecting keras-applications>=1.0.6\n",
            "\u001b[?25l  Downloading https://files.pythonhosted.org/packages/71/e3/19762fdfc62877ae9102edf6342d71b28fbfd9dea3d2f96a882ce099b03f/Keras_Applications-1.0.8-py3-none-any.whl (50kB)\n",
            "\u001b[K     |████████████████████████████████| 51kB 9.3MB/s \n",
            "\u001b[?25hRequirement already satisfied: protobuf>=3.6.1 in /usr/local/lib/python3.7/dist-packages (from tensorflow==1.13.1) (3.12.4)\n",
            "Requirement already satisfied: absl-py>=0.1.6 in /usr/local/lib/python3.7/dist-packages (from tensorflow==1.13.1) (0.12.0)\n",
            "Requirement already satisfied: wheel>=0.26 in /usr/local/lib/python3.7/dist-packages (from tensorflow==1.13.1) (0.36.2)\n",
            "Requirement already satisfied: keras-preprocessing>=1.0.5 in /usr/local/lib/python3.7/dist-packages (from tensorflow==1.13.1) (1.1.2)\n",
            "Requirement already satisfied: grpcio>=1.8.6 in /usr/local/lib/python3.7/dist-packages (from tensorflow==1.13.1) (1.34.1)\n",
            "Requirement already satisfied: markdown>=2.6.8 in /usr/local/lib/python3.7/dist-packages (from tensorboard<1.14.0,>=1.13.0->tensorflow==1.13.1) (3.3.4)\n",
            "Requirement already satisfied: werkzeug>=0.11.15 in /usr/local/lib/python3.7/dist-packages (from tensorboard<1.14.0,>=1.13.0->tensorflow==1.13.1) (1.0.1)\n",
            "Collecting mock>=2.0.0\n",
            "  Downloading https://files.pythonhosted.org/packages/5c/03/b7e605db4a57c0f6fba744b11ef3ddf4ddebcada35022927a2b5fc623fdf/mock-4.0.3-py3-none-any.whl\n",
            "Requirement already satisfied: h5py in /usr/local/lib/python3.7/dist-packages (from keras-applications>=1.0.6->tensorflow==1.13.1) (3.1.0)\n",
            "Requirement already satisfied: setuptools in /usr/local/lib/python3.7/dist-packages (from protobuf>=3.6.1->tensorflow==1.13.1) (57.0.0)\n",
            "Requirement already satisfied: importlib-metadata; python_version < \"3.8\" in /usr/local/lib/python3.7/dist-packages (from markdown>=2.6.8->tensorboard<1.14.0,>=1.13.0->tensorflow==1.13.1) (4.5.0)\n",
            "Requirement already satisfied: cached-property; python_version < \"3.8\" in /usr/local/lib/python3.7/dist-packages (from h5py->keras-applications>=1.0.6->tensorflow==1.13.1) (1.5.2)\n",
            "Requirement already satisfied: zipp>=0.5 in /usr/local/lib/python3.7/dist-packages (from importlib-metadata; python_version < \"3.8\"->markdown>=2.6.8->tensorboard<1.14.0,>=1.13.0->tensorflow==1.13.1) (3.4.1)\n",
            "Requirement already satisfied: typing-extensions>=3.6.4; python_version < \"3.8\" in /usr/local/lib/python3.7/dist-packages (from importlib-metadata; python_version < \"3.8\"->markdown>=2.6.8->tensorboard<1.14.0,>=1.13.0->tensorflow==1.13.1) (3.7.4.3)\n",
            "\u001b[31mERROR: kapre 0.3.5 has requirement tensorflow>=2.0.0, but you'll have tensorflow 1.13.1 which is incompatible.\u001b[0m\n",
            "Installing collected packages: tensorboard, mock, tensorflow-estimator, keras-applications, tensorflow\n",
            "  Found existing installation: tensorboard 2.5.0\n",
            "    Uninstalling tensorboard-2.5.0:\n",
            "      Successfully uninstalled tensorboard-2.5.0\n",
            "  Found existing installation: tensorflow-estimator 2.5.0\n",
            "    Uninstalling tensorflow-estimator-2.5.0:\n",
            "      Successfully uninstalled tensorflow-estimator-2.5.0\n",
            "  Found existing installation: tensorflow 2.5.0\n",
            "    Uninstalling tensorflow-2.5.0:\n",
            "      Successfully uninstalled tensorflow-2.5.0\n",
            "Successfully installed keras-applications-1.0.8 mock-4.0.3 tensorboard-1.13.1 tensorflow-1.13.1 tensorflow-estimator-1.13.0\n"
          ],
          "name": "stdout"
        }
      ]
    },
    {
      "cell_type": "code",
      "metadata": {
        "colab": {
          "base_uri": "https://localhost:8080/"
        },
        "id": "WW4ueCeX4KEv",
        "outputId": "7f5de813-85f3-41a9-840f-dbe43bc3e4ed"
      },
      "source": [
        "from google.colab import drive\n",
        "drive.mount('/content/drive')"
      ],
      "execution_count": null,
      "outputs": [
        {
          "output_type": "stream",
          "text": [
            "Mounted at /content/drive\n"
          ],
          "name": "stdout"
        }
      ]
    },
    {
      "cell_type": "code",
      "metadata": {
        "colab": {
          "base_uri": "https://localhost:8080/"
        },
        "id": "iNZfeoWBcIE3",
        "outputId": "1ca6ea54-ff47-4571-b922-38bc664f3ad5"
      },
      "source": [
        "import tensorflow as tf\n",
        "from tensorflow.examples.tutorials.mnist import input_data\n",
        "from tensorflow.python.framework import graph_util\n",
        "from tensorflow.python.platform import gfile\n",
        "\n",
        "tf.logging.set_verbosity(tf.logging.ERROR)\n",
        "\n",
        "# mnist = input_data.read_data_sets('./MNIST_data/', one_hot=True) # 이 문장이 실행되면 MNIST_data라는 폴더가 생기고 그 밑에 mnist관련된 데이터를 다운로드 받을 수 있다.\n",
        "# 근데 content의 가상파일에 깔려서 볼수없음, 경로 새로 저장\n",
        "mnist = input_data.read_data_sets('/content/drive/MyDrive/Colab Notebooks/deep_learning/MNIST_data/', one_hot=True)\n",
        "\n",
        "#\n",
        "# hyper parameters\n",
        "#\n",
        "learning_rate = 0.001 # gradient decent라는 알고리즘에서 학습을 어느정도 빠르기로 결정할 것인지, learning rate에 대한 내용은 deep_learnin파일 참고\n",
        "training_epochs = 20 # 전체 학습 횟수\n",
        "batch_size = 100\n",
        "\n",
        "#\n",
        "# Model configuration\n",
        "#\n",
        "X = tf.placeholder(tf.float32, [None, 28, 28, 1], name='data') # mnist data 파일을 받아오면 1차원 데이터로 불러오기 때문에 2차원으로 바꿈\n",
        "Y = tf.placeholder(tf.float32, [None, 10]) # output으로 나오는 y는 10개이다\n",
        "\n",
        "conv1 = tf.layers.conv2d(X, 10, [3, 3], padding='same', activation=tf.nn.relu)\n",
        "pool1 = tf.layers.max_pooling2d(conv1, [2, 2], strides=2, padding='same')\n",
        "\n",
        "conv2 = tf.layers.conv2d(pool1, 20, [3, 3], padding='same', activation=tf.nn.relu)\n",
        "pool2 = tf.layers.max_pooling2d(conv2, [2, 2], strides=2, padding='same')\n",
        "\n",
        "fc1 = tf.contrib.layers.flatten(pool2)\n",
        "fc2 = tf.layers.dense(fc1, 200, activation=tf.nn.relu)\n",
        "logits = tf.layers.dense(fc2, 10, activation=None)\n",
        "output = tf.nn.softmax(logits, name='prob')\n",
        "\n",
        "cost = tf.reduce_mean(tf.nn.softmax_cross_entropy_with_logits_v2(labels=Y, logits=logits))\n",
        "optimizer = tf.train.AdamOptimizer(learning_rate).minimize(cost)\n",
        "\n",
        "#\n",
        "# Training\n",
        "#\n",
        "sess = tf.Session()\n",
        "sess.run(tf.global_variables_initializer())\n",
        "total_batch = int(mnist.train.num_examples / batch_size)\n",
        "\n",
        "print('Start learning!')\n",
        "for epoch in range(training_epochs): # 20번 반복\n",
        "    total_cost = 0\n",
        "\n",
        "    for i in range(total_batch):\n",
        "        batch_xs, batch_ys = mnist.train.next_batch(batch_size)\n",
        "        batch_xs = batch_xs.reshape(-1, 28, 28, 1)\n",
        "        _, cost_val = sess.run([optimizer, cost], feed_dict={X: batch_xs, Y: batch_ys})\n",
        "        total_cost += cost_val\n",
        "\n",
        "    print('Epoch: {0}, Avg. Cost = {1:.4f}'.format(epoch + 1, total_cost/total_batch)) # 한 번 학습할 때마다 에러율; 코스트가 얼마나 되는지 알려줌\n",
        "\n",
        "print('Learning finished!')\n",
        "\n",
        "# Test the results\n",
        "is_correct = tf.equal(tf.argmax(logits, 1), tf.argmax(Y, 1))\n",
        "acc = tf.reduce_mean(tf.cast(is_correct, tf.float32))\n",
        "accuracy = sess.run(acc, feed_dict={\n",
        "                    X: mnist.test.images.reshape(-1, 28, 28, 1), Y: mnist.test.labels}) # mnist의 training이 아니라 test인 이미지를 가져와서 맞는지 틀리는지\n",
        "print('Test Accuracy:', accuracy)\n",
        "\n",
        "# Freeze variables and save pb file\n",
        "output_graph_def = graph_util.convert_variables_to_constants(sess, sess.graph_def, ['prob']) # weight가 원래는 variable; 변수지만 constant; 상수로 변경\n",
        "# with gfile.FastGFile('./mnist_cnn.pb', 'wb') as f: # 상수로 변경한 weight를 mnist_cnn.pb에 저장인데 얘도 content에 깔리네...\n",
        "with gfile.FastGFile('/content/drive/MyDrive/Colab Notebooks/deep_learning/mnist_cnn.pb', 'wb') as f:\n",
        "    f.write(output_graph_def.SerializeToString())\n",
        "# 과적합을 방지할 수 있는 dropout이 있지만 굳이 사용하진 않았다\n",
        "\n",
        "print('mnist_cnn.pb file is created successfully!!')"
      ],
      "execution_count": null,
      "outputs": [
        {
          "output_type": "stream",
          "text": [
            "Successfully downloaded train-images-idx3-ubyte.gz 9912422 bytes.\n",
            "Extracting /content/drive/MyDrive/Colab Notebooks/deep_learning/MNIST_data/train-images-idx3-ubyte.gz\n",
            "Successfully downloaded train-labels-idx1-ubyte.gz 28881 bytes.\n",
            "Extracting /content/drive/MyDrive/Colab Notebooks/deep_learning/MNIST_data/train-labels-idx1-ubyte.gz\n",
            "Successfully downloaded t10k-images-idx3-ubyte.gz 1648877 bytes.\n",
            "Extracting /content/drive/MyDrive/Colab Notebooks/deep_learning/MNIST_data/t10k-images-idx3-ubyte.gz\n",
            "Successfully downloaded t10k-labels-idx1-ubyte.gz 4542 bytes.\n",
            "Extracting /content/drive/MyDrive/Colab Notebooks/deep_learning/MNIST_data/t10k-labels-idx1-ubyte.gz\n",
            "Start learning!\n",
            "Epoch: 1, Avg. Cost = 0.2572\n",
            "Epoch: 2, Avg. Cost = 0.0695\n",
            "Epoch: 3, Avg. Cost = 0.0485\n",
            "Epoch: 4, Avg. Cost = 0.0363\n",
            "Epoch: 5, Avg. Cost = 0.0306\n",
            "Epoch: 6, Avg. Cost = 0.0255\n",
            "Epoch: 7, Avg. Cost = 0.0190\n",
            "Epoch: 8, Avg. Cost = 0.0163\n",
            "Epoch: 9, Avg. Cost = 0.0144\n",
            "Epoch: 10, Avg. Cost = 0.0111\n",
            "Epoch: 11, Avg. Cost = 0.0086\n",
            "Epoch: 12, Avg. Cost = 0.0094\n",
            "Epoch: 13, Avg. Cost = 0.0081\n",
            "Epoch: 14, Avg. Cost = 0.0070\n",
            "Epoch: 15, Avg. Cost = 0.0054\n",
            "Epoch: 16, Avg. Cost = 0.0053\n",
            "Epoch: 17, Avg. Cost = 0.0042\n",
            "Epoch: 18, Avg. Cost = 0.0062\n",
            "Epoch: 19, Avg. Cost = 0.0033\n",
            "Epoch: 20, Avg. Cost = 0.0045\n",
            "Learning finished!\n",
            "Test Accuracy: 0.9891\n",
            "mnist_cnn.pb file is created successfully!!\n"
          ],
          "name": "stdout"
        }
      ]
    }
  ]
}